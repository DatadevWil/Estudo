{
  "nbformat": 4,
  "nbformat_minor": 0,
  "metadata": {
    "colab": {
      "name": "Distribuição T.ipynb",
      "provenance": [],
      "collapsed_sections": [],
      "authorship_tag": "ABX9TyO/TXwqaKA5RihM638DTt1U",
      "include_colab_link": true
    },
    "kernelspec": {
      "name": "python3",
      "display_name": "Python 3"
    },
    "language_info": {
      "name": "python"
    }
  },
  "cells": [
    {
      "cell_type": "markdown",
      "metadata": {
        "id": "view-in-github",
        "colab_type": "text"
      },
      "source": [
        "<a href=\"https://colab.research.google.com/github/DatadevWil/Estudo/blob/main/Distribui%C3%A7%C3%A3o_T.ipynb\" target=\"_parent\"><img src=\"https://colab.research.google.com/assets/colab-badge.svg\" alt=\"Open In Colab\"/></a>"
      ]
    },
    {
      "cell_type": "code",
      "metadata": {
        "id": "43KcISXyxs4s"
      },
      "source": [
        "from scipy.stats import t"
      ],
      "execution_count": 5,
      "outputs": []
    },
    {
      "cell_type": "markdown",
      "metadata": {
        "id": "TWNa_kx4x4iC"
      },
      "source": [
        "Média de salário por hora do cientista de dados é R$ 75,00. Amostra com 9 funcionários e desvio padrão = 10."
      ]
    },
    {
      "cell_type": "code",
      "metadata": {
        "colab": {
          "base_uri": "https://localhost:8080/"
        },
        "id": "dKC6otyeyCdo",
        "outputId": "73fabca8-3444-4355-b63a-91cc8c47e006"
      },
      "source": [
        "# Qual a probabilidade de slecionar um cientista de dadis e o salário ser menor que R$ 80,00 por hora?\n",
        "b = t.cdf(1.5,8)\n",
        "print(b)\n",
        "# O valor de 1,5 é econtrado na tabela de acordo com o tamanho da amostra, desvio padrão e média"
      ],
      "execution_count": 11,
      "outputs": [
        {
          "output_type": "stream",
          "name": "stdout",
          "text": [
            "0.9139983540240443\n"
          ]
        }
      ]
    },
    {
      "cell_type": "code",
      "metadata": {
        "colab": {
          "base_uri": "https://localhost:8080/"
        },
        "id": "jveYnq52yd7G",
        "outputId": "ed78f672-5a09-40b5-9773-9a9f5eb3d6c5"
      },
      "source": [
        " # Qual a probabilidade do salário ser maior do que R$80,00\n",
        " a = t.sf(1.5,8)\n",
        " print(a)\n",
        " # Quando temos um valor MAIOR QUE devemos usar o atributo t.sf, quando temos um valor MENOR QUE devemos usar o atributo t.cdf"
      ],
      "execution_count": 12,
      "outputs": [
        {
          "output_type": "stream",
          "name": "stdout",
          "text": [
            "0.08600164597595565\n"
          ]
        }
      ]
    },
    {
      "cell_type": "code",
      "metadata": {
        "colab": {
          "base_uri": "https://localhost:8080/"
        },
        "id": "rPzL6HmAzI57",
        "outputId": "552dc25b-4ef7-4201-8360-1448578c63e7"
      },
      "source": [
        "print(a+b)"
      ],
      "execution_count": 13,
      "outputs": [
        {
          "output_type": "stream",
          "name": "stdout",
          "text": [
            "0.9999999999999999\n"
          ]
        }
      ]
    }
  ]
}