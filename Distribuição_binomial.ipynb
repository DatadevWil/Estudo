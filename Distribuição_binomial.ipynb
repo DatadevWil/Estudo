{
  "nbformat": 4,
  "nbformat_minor": 0,
  "metadata": {
    "colab": {
      "name": "Distribuição binomial.ipynb",
      "provenance": [],
      "authorship_tag": "ABX9TyOEKBqSbVcBn3ITTWRghBzi",
      "include_colab_link": true
    },
    "kernelspec": {
      "name": "python3",
      "display_name": "Python 3"
    },
    "language_info": {
      "name": "python"
    }
  },
  "cells": [
    {
      "cell_type": "markdown",
      "metadata": {
        "id": "view-in-github",
        "colab_type": "text"
      },
      "source": [
        "<a href=\"https://colab.research.google.com/github/DatadevWil/Estudo/blob/main/Distribui%C3%A7%C3%A3o_binomial.ipynb\" target=\"_parent\"><img src=\"https://colab.research.google.com/assets/colab-badge.svg\" alt=\"Open In Colab\"/></a>"
      ]
    },
    {
      "cell_type": "code",
      "metadata": {
        "id": "bd4v-twdF2Yy"
      },
      "source": [
        "  from scipy.stats import binom"
      ],
      "execution_count": 1,
      "outputs": []
    },
    {
      "cell_type": "code",
      "metadata": {
        "colab": {
          "base_uri": "https://localhost:8080/"
        },
        "id": "Rpkp5-pAF_TB",
        "outputId": "f434e8b7-77bc-4ec5-a8e6-1e4b8111fca2"
      },
      "source": [
        "# Jogar uma moeda 5 vezes, qual a probabilidade de dar cara 3 vezes? (eventos, experimentos, probabilidade)\n",
        "prob = binom.pmf(3,5,0.5)\n",
        "# Lembrando que 0.5 é a probabilidade jogar uma moeda e dar cara ou coroa\n",
        "prob"
      ],
      "execution_count": 3,
      "outputs": [
        {
          "output_type": "execute_result",
          "data": {
            "text/plain": [
              "0.3125"
            ]
          },
          "metadata": {},
          "execution_count": 3
        }
      ]
    },
    {
      "cell_type": "code",
      "metadata": {
        "colab": {
          "base_uri": "https://localhost:8080/"
        },
        "id": "3xaU-O6oGdCT",
        "outputId": "15e1fd6b-5f7a-4c91-eeb1-01f16cc1624a"
      },
      "source": [
        "# Passar por 4 sinais de 4 tempos, qual a probabilidade de pegar sinal verde? nenhuma(0), 1,2,3 ou 4 vezes seguidas\n",
        "binom.pmf(0,4,0.25)+binom.pmf(1,4,0.25)+binom.pmf(2,4,0.25)+binom.pmf(3,4,0.25)+binom.pmf(4,4,0.25)"
      ],
      "execution_count": 4,
      "outputs": [
        {
          "output_type": "execute_result",
          "data": {
            "text/plain": [
              "1.0000000000000002"
            ]
          },
          "metadata": {},
          "execution_count": 4
        }
      ]
    },
    {
      "cell_type": "code",
      "metadata": {
        "colab": {
          "base_uri": "https://localhost:8080/"
        },
        "id": "YeHTgwPDHH0L",
        "outputId": "1782acfe-dec9-4435-fa0d-9816f91f8673"
      },
      "source": [
        "# E se forem sinais de 2 tempos?\n",
        "binom.pmf(4,4,0.5)"
      ],
      "execution_count": 5,
      "outputs": [
        {
          "output_type": "execute_result",
          "data": {
            "text/plain": [
              "0.0625"
            ]
          },
          "metadata": {},
          "execution_count": 5
        }
      ]
    },
    {
      "cell_type": "code",
      "metadata": {
        "colab": {
          "base_uri": "https://localhost:8080/"
        },
        "id": "iPGG54tgHwa3",
        "outputId": "28e374fd-6021-4e5f-c651-45b37ade33da"
      },
      "source": [
        "# Probabilidade acumulativa\n",
        "binom.cdf(4,4,0.25)"
      ],
      "execution_count": 6,
      "outputs": [
        {
          "output_type": "execute_result",
          "data": {
            "text/plain": [
              "1.0"
            ]
          },
          "metadata": {},
          "execution_count": 6
        }
      ]
    },
    {
      "cell_type": "code",
      "metadata": {
        "colab": {
          "base_uri": "https://localhost:8080/"
        },
        "id": "3BCoHtDyH3Km",
        "outputId": "73239588-9af4-4fc0-9918-647d0a709606"
      },
      "source": [
        "# Concurso com 12 questões, qual a probabilidade de acertar 7 questões considerando que cada questão tem 4 alternativas?\n",
        "binom.cdf(7,12,0.25)"
      ],
      "execution_count": 7,
      "outputs": [
        {
          "output_type": "execute_result",
          "data": {
            "text/plain": [
              "0.9972184896469116"
            ]
          },
          "metadata": {},
          "execution_count": 7
        }
      ]
    },
    {
      "cell_type": "code",
      "metadata": {
        "colab": {
          "base_uri": "https://localhost:8080/"
        },
        "id": "VA7uulguINTI",
        "outputId": "dbdc4039-46c8-48d4-8bf8-39ae54286b40"
      },
      "source": [
        "# Probabilidade de acertar 12 questões?\n",
        "binom.pmf(12,12,0.25)"
      ],
      "execution_count": 8,
      "outputs": [
        {
          "output_type": "execute_result",
          "data": {
            "text/plain": [
              "5.960464477539072e-08"
            ]
          },
          "metadata": {},
          "execution_count": 8
        }
      ]
    }
  ]
}