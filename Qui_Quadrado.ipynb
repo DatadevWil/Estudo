{
  "nbformat": 4,
  "nbformat_minor": 0,
  "metadata": {
    "colab": {
      "name": "Qui-Quadrado.ipynb",
      "provenance": [],
      "authorship_tag": "ABX9TyNUY4j/DofbyLLA9usy346W",
      "include_colab_link": true
    },
    "kernelspec": {
      "name": "python3",
      "display_name": "Python 3"
    },
    "language_info": {
      "name": "python"
    }
  },
  "cells": [
    {
      "cell_type": "markdown",
      "metadata": {
        "id": "view-in-github",
        "colab_type": "text"
      },
      "source": [
        "<a href=\"https://colab.research.google.com/github/DatadevWil/Estudo/blob/main/Qui_Quadrado.ipynb\" target=\"_parent\"><img src=\"https://colab.research.google.com/assets/colab-badge.svg\" alt=\"Open In Colab\"/></a>"
      ]
    },
    {
      "cell_type": "code",
      "metadata": {
        "id": "lGXKcBOzpTLC"
      },
      "source": [
        "import numpy as np\n",
        "from scipy.stats import chi2_contingency"
      ],
      "execution_count": 1,
      "outputs": []
    },
    {
      "cell_type": "code",
      "metadata": {
        "colab": {
          "base_uri": "https://localhost:8080/"
        },
        "id": "eAMoq_mwpmyC",
        "outputId": "4754e2d9-8248-4438-c82f-0241be0d0551"
      },
      "source": [
        "#criação da matriz\n",
        "#criando a matriz colocando as informações sobre a quantidade de homens e mulheres que assistem e que não assistem novela\n",
        "novela = np.array([[19,6],[43,32]])\n",
        "novela"
      ],
      "execution_count": 2,
      "outputs": [
        {
          "output_type": "execute_result",
          "data": {
            "text/plain": [
              "array([[19,  6],\n",
              "       [43, 32]])"
            ]
          },
          "metadata": {},
          "execution_count": 2
        }
      ]
    },
    {
      "cell_type": "code",
      "metadata": {
        "colab": {
          "base_uri": "https://localhost:8080/"
        },
        "id": "S6TwrTWBqA3Q",
        "outputId": "6f1db3fc-351c-4f86-b3cb-4a71f433ef83"
      },
      "source": [
        "# O segundo valor é o pvalue\n",
        "# O valor de p é maior que 0,05 sendo assim não há diferença significativa\n",
        "chi2_contingency(novela)"
      ],
      "execution_count": 3,
      "outputs": [
        {
          "output_type": "execute_result",
          "data": {
            "text/plain": [
              "(2.037351443123939, 0.15347667161786666, 1, array([[15.5,  9.5],\n",
              "        [46.5, 28.5]]))"
            ]
          },
          "metadata": {},
          "execution_count": 3
        }
      ]
    },
    {
      "cell_type": "code",
      "metadata": {
        "colab": {
          "base_uri": "https://localhost:8080/"
        },
        "id": "KYdAITdPqf4a",
        "outputId": "7c02e811-9a71-4b40-dd78-c0f81181101d"
      },
      "source": [
        "#Criação de outra matriz para testar novamente a hipótese nula\n",
        "novela2 = np.array([[88,12],[12,11]])\n",
        "novela2"
      ],
      "execution_count": 9,
      "outputs": [
        {
          "output_type": "execute_result",
          "data": {
            "text/plain": [
              "array([[88, 12],\n",
              "       [12, 11]])"
            ]
          },
          "metadata": {},
          "execution_count": 9
        }
      ]
    },
    {
      "cell_type": "code",
      "metadata": {
        "colab": {
          "base_uri": "https://localhost:8080/"
        },
        "id": "gUb3g5VSqzF9",
        "outputId": "d1e39eca-ad13-49a6-afb1-eccfcf607a3e"
      },
      "source": [
        "chi2_contingency(novela2)\n",
        "# com o resultado obtido que é bem menor que 0,05 podemos concluir que a proporção de homens que assistem novela é maior que a de mulheres"
      ],
      "execution_count": 10,
      "outputs": [
        {
          "output_type": "execute_result",
          "data": {
            "text/plain": [
              "(13.518519612476371,\n",
              " 0.00023622068488039015,\n",
              " 1,\n",
              " array([[81.30081301, 18.69918699],\n",
              "        [18.69918699,  4.30081301]]))"
            ]
          },
          "metadata": {},
          "execution_count": 10
        }
      ]
    }
  ]
}