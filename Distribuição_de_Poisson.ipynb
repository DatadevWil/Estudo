{
  "nbformat": 4,
  "nbformat_minor": 0,
  "metadata": {
    "colab": {
      "name": "Distribuição de Poisson.ipynb",
      "provenance": [],
      "authorship_tag": "ABX9TyOprBIXkraesBrplgXDb+s8",
      "include_colab_link": true
    },
    "kernelspec": {
      "name": "python3",
      "display_name": "Python 3"
    },
    "language_info": {
      "name": "python"
    }
  },
  "cells": [
    {
      "cell_type": "markdown",
      "metadata": {
        "id": "view-in-github",
        "colab_type": "text"
      },
      "source": [
        "<a href=\"https://colab.research.google.com/github/DatadevWil/Estudo/blob/main/Distribui%C3%A7%C3%A3o_de_Poisson.ipynb\" target=\"_parent\"><img src=\"https://colab.research.google.com/assets/colab-badge.svg\" alt=\"Open In Colab\"/></a>"
      ]
    },
    {
      "cell_type": "markdown",
      "metadata": {
        "id": "eLTnfp195KbN"
      },
      "source": [
        "Distribuição de Poisson - Mede a probabilidade da ocorrência de eventos em intervalo de tempo"
      ]
    },
    {
      "cell_type": "code",
      "metadata": {
        "id": "Xh2-N8jr5bWZ"
      },
      "source": [
        "# Média de acidentes de carro é de 2 por dia\n",
        "from scipy.stats import poisson"
      ],
      "execution_count": 1,
      "outputs": []
    },
    {
      "cell_type": "code",
      "metadata": {
        "colab": {
          "base_uri": "https://localhost:8080/"
        },
        "id": "zHCbm2zQ6D4y",
        "outputId": "f7c9b55d-21d9-4fa5-e468-f18f80ef4a18"
      },
      "source": [
        "# Qual a probabilidade de ocorrerem 3 acidentes por dia?\n",
        "poisson.pmf(3,2)\n"
      ],
      "execution_count": 2,
      "outputs": [
        {
          "output_type": "execute_result",
          "data": {
            "text/plain": [
              "0.18044704431548356"
            ]
          },
          "metadata": {},
          "execution_count": 2
        }
      ]
    },
    {
      "cell_type": "code",
      "metadata": {
        "colab": {
          "base_uri": "https://localhost:8080/"
        },
        "id": "yvA1xWmP6cHP",
        "outputId": "95ed02a7-de70-4cc9-fec1-8f63df7140b5"
      },
      "source": [
        "# Qual a probabilidade de ocorrerem 3 ou menos acidentes por dia? (Nesse caso teremos a soma da probabilidade de não ocorrerem acidentes (0), de ocorrer 1 acidente, 2 acidentes e 3 acidentes)\n",
        "poisson.cdf(3,2)"
      ],
      "execution_count": 3,
      "outputs": [
        {
          "output_type": "execute_result",
          "data": {
            "text/plain": [
              "0.857123460498547"
            ]
          },
          "metadata": {},
          "execution_count": 3
        }
      ]
    },
    {
      "cell_type": "code",
      "metadata": {
        "colab": {
          "base_uri": "https://localhost:8080/"
        },
        "id": "eAJGV3gd6uVm",
        "outputId": "c6623d62-7977-4996-e94f-c844917c03cb"
      },
      "source": [
        "# Qual a probabilidade de ocorrerem mais de 3 acidentes por dia?\n",
        "poisson.sf(3,2)"
      ],
      "execution_count": 4,
      "outputs": [
        {
          "output_type": "execute_result",
          "data": {
            "text/plain": [
              "0.14287653950145296"
            ]
          },
          "metadata": {},
          "execution_count": 4
        }
      ]
    }
  ]
}