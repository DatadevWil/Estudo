{
  "nbformat": 4,
  "nbformat_minor": 0,
  "metadata": {
    "colab": {
      "name": "Estudos básicos em python.ipynb",
      "provenance": [],
      "collapsed_sections": [],
      "authorship_tag": "ABX9TyNx+d8EKSMegS7q7phaueAm",
      "include_colab_link": true
    },
    "kernelspec": {
      "name": "python3",
      "display_name": "Python 3"
    },
    "language_info": {
      "name": "python"
    }
  },
  "cells": [
    {
      "cell_type": "markdown",
      "metadata": {
        "id": "view-in-github",
        "colab_type": "text"
      },
      "source": [
        "<a href=\"https://colab.research.google.com/github/DatadevWil/Estudo/blob/main/Estudos_b%C3%A1sicos_em_python.ipynb\" target=\"_parent\"><img src=\"https://colab.research.google.com/assets/colab-badge.svg\" alt=\"Open In Colab\"/></a>"
      ]
    },
    {
      "cell_type": "markdown",
      "source": [
        "# **Duas formas diferentes de encontrar o valor máximo informado por um usuário**"
      ],
      "metadata": {
        "id": "l4kbhSz-SGjL"
      }
    },
    {
      "cell_type": "code",
      "execution_count": null,
      "metadata": {
        "colab": {
          "base_uri": "https://localhost:8080/"
        },
        "id": "wLfaRtWwQKvP",
        "outputId": "d068b2ae-7b8b-455c-df3b-c0b766a1ffee"
      },
      "outputs": [
        {
          "name": "stdout",
          "output_type": "stream",
          "text": [
            "Informe um número:2\n",
            "Informe um número:2\n"
          ]
        }
      ],
      "source": [
        "num1=int(input('Informe um número:'))\n",
        "num2=int(input('Informe um número:'))"
      ]
    },
    {
      "cell_type": "code",
      "source": [
        "if num1>num2:\n",
        "  print(num1)\n",
        "elif num1 == num2:\n",
        "  print('Os dois números são iguais!')\n",
        "else:\n",
        "  print(num2)"
      ],
      "metadata": {
        "colab": {
          "base_uri": "https://localhost:8080/"
        },
        "id": "MMz8fUT4QuU0",
        "outputId": "1f5fb71c-c80e-4f17-c336-6b761fc54059"
      },
      "execution_count": null,
      "outputs": [
        {
          "output_type": "stream",
          "name": "stdout",
          "text": [
            "Os dois números são iguais!\n"
          ]
        }
      ]
    },
    {
      "cell_type": "code",
      "source": [
        "lista=[]"
      ],
      "metadata": {
        "id": "xGNtF7FGRQct"
      },
      "execution_count": null,
      "outputs": []
    },
    {
      "cell_type": "code",
      "source": [
        "qtd = int(input('Informe a quantidade de repetições:'))"
      ],
      "metadata": {
        "colab": {
          "base_uri": "https://localhost:8080/"
        },
        "id": "6OykmC2SRg0H",
        "outputId": "e4342088-97a9-4761-ea40-99127a24c817"
      },
      "execution_count": null,
      "outputs": [
        {
          "name": "stdout",
          "output_type": "stream",
          "text": [
            "Informe a quantidade de repetições:5\n"
          ]
        }
      ]
    },
    {
      "cell_type": "code",
      "source": [
        "for n in range(0,qtd):\n",
        "  lista.append(int(input('Informe um número:')))"
      ],
      "metadata": {
        "colab": {
          "base_uri": "https://localhost:8080/"
        },
        "id": "84jXE2XERZsb",
        "outputId": "04dd7b24-e912-4768-8cb0-ac313dcf69dd"
      },
      "execution_count": null,
      "outputs": [
        {
          "name": "stdout",
          "output_type": "stream",
          "text": [
            "Informe um número:2\n",
            "Informe um número:3\n",
            "Informe um número:4\n",
            "Informe um número:5\n",
            "Informe um número:8\n"
          ]
        }
      ]
    },
    {
      "cell_type": "code",
      "source": [
        "print(max(lista))"
      ],
      "metadata": {
        "colab": {
          "base_uri": "https://localhost:8080/"
        },
        "id": "SdZuXEifR3i8",
        "outputId": "e9e23f1c-a0f0-46ad-9071-74fdb759c3c7"
      },
      "execution_count": null,
      "outputs": [
        {
          "output_type": "stream",
          "name": "stdout",
          "text": [
            "8\n"
          ]
        }
      ]
    },
    {
      "cell_type": "markdown",
      "source": [
        "# **Identificando se o número informado pelo usuário é positivo ou negativo e identificando os valores positivos e negativos dentro de uma lista**"
      ],
      "metadata": {
        "id": "QVNf3rhWSiHD"
      }
    },
    {
      "cell_type": "code",
      "source": [
        "num3 = int(input('Informe um número:'))"
      ],
      "metadata": {
        "colab": {
          "base_uri": "https://localhost:8080/"
        },
        "id": "v-56etzPSe-F",
        "outputId": "db4e1d1f-7f3b-4215-dfaf-2e06e16e392a"
      },
      "execution_count": null,
      "outputs": [
        {
          "name": "stdout",
          "output_type": "stream",
          "text": [
            "Informe um número:0\n"
          ]
        }
      ]
    },
    {
      "cell_type": "code",
      "source": [
        "if num3 < 0:\n",
        "  print(f'O {num3} é negativo!')\n",
        "elif num3 == 0:\n",
        "  print('O número é igual a 0.')\n",
        "else:\n",
        "  print(f'O {num3} é positivo!')"
      ],
      "metadata": {
        "colab": {
          "base_uri": "https://localhost:8080/"
        },
        "id": "PHS5RjMUS0As",
        "outputId": "7facc8d4-73af-4c61-c837-d27205afddb6"
      },
      "execution_count": null,
      "outputs": [
        {
          "output_type": "stream",
          "name": "stdout",
          "text": [
            "O número é igual a 0.\n"
          ]
        }
      ]
    },
    {
      "cell_type": "code",
      "source": [
        "lista2=[2,-2,3,0,-2,2,-5,5]\n",
        "negativos=[]\n",
        "positivos=[]"
      ],
      "metadata": {
        "id": "r-mCC4LwTaxA"
      },
      "execution_count": null,
      "outputs": []
    },
    {
      "cell_type": "code",
      "source": [
        "for n in lista2:\n",
        "  if n < 0:\n",
        "    if n in negativos:\n",
        "      continue\n",
        "    else:\n",
        "      negativos.append(n)\n",
        "  elif n == 0:\n",
        "    continue\n",
        "  else:\n",
        "    if n in positivos:\n",
        "      continue\n",
        "    else:\n",
        "      positivos.append(n)\n",
        "\n",
        "print(negativos)\n",
        "print(positivos)"
      ],
      "metadata": {
        "colab": {
          "base_uri": "https://localhost:8080/"
        },
        "id": "4KKHCsvXTeuU",
        "outputId": "8f475bf8-6d66-497a-db8b-9a4d439b5259"
      },
      "execution_count": null,
      "outputs": [
        {
          "output_type": "stream",
          "name": "stdout",
          "text": [
            "[-2, -5]\n",
            "[2, 3, 5]\n"
          ]
        }
      ]
    },
    {
      "cell_type": "markdown",
      "source": [
        "# **Identificando se a letra informada pelo usuário é F, M ou outra e caso F imprindo FEMININO, caso M imprimindo MASCULINO**"
      ],
      "metadata": {
        "id": "yEa4xE1OVPmD"
      }
    },
    {
      "cell_type": "code",
      "source": [
        "letra = input('Informe o seu sexo:\\n[M] - Masculino\\n[F] - Feminino\\n').upper()\n",
        "while letra != 'M' and letra != 'F':\n",
        "  print('Você não informou um valor valido!')\n",
        "  letra = input('Informe o seu sexo:\\n[M] - Masculino\\n[F] - Feminino\\n').upper()"
      ],
      "metadata": {
        "colab": {
          "base_uri": "https://localhost:8080/"
        },
        "id": "EblDUA7qVMiG",
        "outputId": "c5bd99ac-a880-4da8-9882-11860154c29f"
      },
      "execution_count": null,
      "outputs": [
        {
          "name": "stdout",
          "output_type": "stream",
          "text": [
            "Informe o seu sexo:\n",
            "[M] - Masculino\n",
            "[F] - Feminino\n",
            "mf\n",
            "Você não informou um valor valido!\n",
            "Informe o seu sexo:\n",
            "[M] - Masculino\n",
            "[F] - Feminino\n",
            "feminino\n",
            "Você não informou um valor valido!\n",
            "Informe o seu sexo:\n",
            "[M] - Masculino\n",
            "[F] - Feminino\n",
            "f\n"
          ]
        }
      ]
    },
    {
      "cell_type": "code",
      "source": [
        "if letra == 'M':\n",
        "  print('Seu sexo é Masculino.')\n",
        "elif letra != \"M\" and letra != \"F\":\n",
        "  print('Valor invalido!')\n",
        "else:\n",
        "  print('Seu sexo é Feminino.')"
      ],
      "metadata": {
        "colab": {
          "base_uri": "https://localhost:8080/"
        },
        "id": "badNhCR0YpUo",
        "outputId": "4af25a8a-1028-4ef6-f95e-796749d42ba6"
      },
      "execution_count": null,
      "outputs": [
        {
          "output_type": "stream",
          "name": "stdout",
          "text": [
            "Seu sexo é Feminino.\n"
          ]
        }
      ]
    },
    {
      "cell_type": "markdown",
      "source": [
        "# **Avaliando se a letra é consoante ou vogal**"
      ],
      "metadata": {
        "id": "jPrIVIZUAbyE"
      }
    },
    {
      "cell_type": "code",
      "source": [
        "consoante = []\n",
        "vogal_user = []\n",
        "vogal = ('a','e','i','o','u') #utilizei uma tupla para armazenar as vogais pois é um objeto não mutável, portanto consigo manter a mesma lista."
      ],
      "metadata": {
        "id": "mjUFaw1YAbBc"
      },
      "execution_count": null,
      "outputs": []
    },
    {
      "cell_type": "code",
      "source": [
        "lista = []"
      ],
      "metadata": {
        "id": "ugMSwTMJAvti"
      },
      "execution_count": null,
      "outputs": []
    },
    {
      "cell_type": "code",
      "source": [
        "qtd = int(input('Informe a quantidade de repetições:'))"
      ],
      "metadata": {
        "colab": {
          "base_uri": "https://localhost:8080/"
        },
        "id": "zTeSdwOuBDZq",
        "outputId": "347fc925-9f44-4142-b7a5-916c3ab20547"
      },
      "execution_count": null,
      "outputs": [
        {
          "name": "stdout",
          "output_type": "stream",
          "text": [
            "Informe a quantidade de repetições:3\n"
          ]
        }
      ]
    },
    {
      "cell_type": "code",
      "source": [
        "for n in range(0,qtd):\n",
        "  letra = input('Informe uma letra:')\n",
        "  lista.append(letra)\n",
        "  if letra in vogal:\n",
        "    vogal_user.append(letra)\n",
        "  else:\n",
        "    consoante.append(letra)"
      ],
      "metadata": {
        "colab": {
          "base_uri": "https://localhost:8080/"
        },
        "id": "ezwsFl3xAyqK",
        "outputId": "c4fc3152-a1fc-4f89-96e1-dae4913aa3c9"
      },
      "execution_count": null,
      "outputs": [
        {
          "name": "stdout",
          "output_type": "stream",
          "text": [
            "Informe uma letra:e\n",
            "Informe uma letra:f\n",
            "Informe uma letra:i\n"
          ]
        }
      ]
    },
    {
      "cell_type": "code",
      "source": [
        "print(lista)\n",
        "print(vogal_user)\n",
        "print(consoante)"
      ],
      "metadata": {
        "colab": {
          "base_uri": "https://localhost:8080/"
        },
        "id": "zDWGUOAQBanL",
        "outputId": "b65d4db0-f494-4cc6-d2a0-b69f7e3805e3"
      },
      "execution_count": null,
      "outputs": [
        {
          "output_type": "stream",
          "name": "stdout",
          "text": [
            "['e', 'f', 'i']\n",
            "['e', 'i']\n",
            "['f']\n"
          ]
        }
      ]
    },
    {
      "cell_type": "markdown",
      "source": [
        "# **Programa para identificar as consoantes e vogais dentro de uma frase digitada pelo usuário**"
      ],
      "metadata": {
        "id": "xrGHv9-GMvZM"
      }
    },
    {
      "cell_type": "code",
      "source": [
        "frase = input('Digite uma frase:').lower()\n",
        "\n",
        "for n in frase:\n",
        "  if n == \" \":\n",
        "    continue\n",
        "  elif n in vogal:\n",
        "    if n in vogal_user:\n",
        "      continue\n",
        "    else:\n",
        "      vogal_user.append(n)\n",
        "  else:\n",
        "    if n in consoante:\n",
        "      continue\n",
        "    else:\n",
        "      consoante.append(n)\n",
        "\n",
        "print(vogal_user)\n",
        "print(consoante)\n"
      ],
      "metadata": {
        "colab": {
          "base_uri": "https://localhost:8080/"
        },
        "id": "GMZ6CpVgCLvL",
        "outputId": "a3d88daf-1a16-4fdb-c38a-1000609c478b"
      },
      "execution_count": null,
      "outputs": [
        {
          "output_type": "stream",
          "name": "stdout",
          "text": [
            "Digite uma frase:Eu tenho um computador da lenovo\n",
            "['e', 'u', 'o', 'a']\n",
            "['t', 'n', 'h', 'm', 'c', 'p', 'd', 'r', 'l', 'v']\n"
          ]
        }
      ]
    },
    {
      "cell_type": "markdown",
      "source": [
        "# **Código para calcular a média das notas de um aluno**"
      ],
      "metadata": {
        "id": "Hup69mpu4-HE"
      }
    },
    {
      "cell_type": "code",
      "source": [
        "notas = []"
      ],
      "metadata": {
        "id": "4HM_h6xZ48O8"
      },
      "execution_count": null,
      "outputs": []
    },
    {
      "cell_type": "code",
      "source": [
        "for n in range(0,3):\n",
        "  notas.append(int(input('Informe a nota da sua prova:')))"
      ],
      "metadata": {
        "colab": {
          "base_uri": "https://localhost:8080/"
        },
        "id": "SCoPmkv85tZs",
        "outputId": "dc3d2330-cf85-48ee-ee49-487c42afeb77"
      },
      "execution_count": null,
      "outputs": [
        {
          "name": "stdout",
          "output_type": "stream",
          "text": [
            "Informe a nota da sua prova:8\n",
            "Informe a nota da sua prova:9\n",
            "Informe a nota da sua prova:7\n"
          ]
        }
      ]
    },
    {
      "cell_type": "code",
      "source": [
        "media = sum(notas)/len(notas)\n",
        "print(media)"
      ],
      "metadata": {
        "colab": {
          "base_uri": "https://localhost:8080/"
        },
        "id": "R7kM8dA357Az",
        "outputId": "e38bb74c-f413-4a3b-ac5b-a5b31f1f9a23"
      },
      "execution_count": null,
      "outputs": [
        {
          "output_type": "stream",
          "name": "stdout",
          "text": [
            "8.0\n"
          ]
        }
      ]
    },
    {
      "cell_type": "code",
      "source": [
        "if media <=5:\n",
        "  print('Reprovado')\n",
        "elif media == 10:\n",
        "  print('Aprovado com distinção!')\n",
        "else:\n",
        "  print('Aprovado')"
      ],
      "metadata": {
        "colab": {
          "base_uri": "https://localhost:8080/"
        },
        "id": "vc-LEVis_eHN",
        "outputId": "03b4088b-7718-4da8-ea66-ffb507b00b66"
      },
      "execution_count": null,
      "outputs": [
        {
          "output_type": "stream",
          "name": "stdout",
          "text": [
            "Aprovado\n"
          ]
        }
      ]
    },
    {
      "cell_type": "markdown",
      "source": [
        "# **Programa para identificar os produtos em listas e depois indicar os mais baratos**"
      ],
      "metadata": {
        "id": "qTPtsrqfCDff"
      }
    },
    {
      "cell_type": "code",
      "source": [
        "frutas = []\n",
        "carnes = []"
      ],
      "metadata": {
        "id": "9eakIHOXAL3B"
      },
      "execution_count": null,
      "outputs": []
    },
    {
      "cell_type": "code",
      "source": [
        "tipo = input('Informe o tipo de produto:\\n[F] - Fruta\\n[C] - Carne\\n').upper()\n",
        "if tipo == 'F':\n",
        "  frutas.append(input('Informe uma fruta:'))\n",
        "else:\n",
        "  carnes.append(input('Informe uma carne:'))"
      ],
      "metadata": {
        "colab": {
          "base_uri": "https://localhost:8080/"
        },
        "id": "rdm8ypTbClWH",
        "outputId": "dee5512a-9e9f-44ad-9d7a-71e69247b573"
      },
      "execution_count": null,
      "outputs": [
        {
          "name": "stdout",
          "output_type": "stream",
          "text": [
            "Informe o tipo de produto:\n",
            "[F] - Fruta\n",
            "[C] - Carne\n",
            "c\n",
            "Informe uma carne:contra-filé\n"
          ]
        }
      ]
    },
    {
      "cell_type": "code",
      "source": [
        "print(frutas)\n",
        "print(carnes)"
      ],
      "metadata": {
        "colab": {
          "base_uri": "https://localhost:8080/"
        },
        "id": "DgNBxSUVELj0",
        "outputId": "cceb574b-30f1-438d-cd81-43bd71392dae"
      },
      "execution_count": null,
      "outputs": [
        {
          "output_type": "stream",
          "name": "stdout",
          "text": [
            "['Banana', 'maçã']\n",
            "['Maminha', 'contra-filé']\n"
          ]
        }
      ]
    },
    {
      "cell_type": "code",
      "source": [
        "def func1 (arg1,arg2):\n",
        "  print(arg1 * arg2)"
      ],
      "metadata": {
        "id": "7Pyk2qDDTieR"
      },
      "execution_count": 13,
      "outputs": []
    },
    {
      "cell_type": "code",
      "source": [
        "func1(2,3)"
      ],
      "metadata": {
        "colab": {
          "base_uri": "https://localhost:8080/"
        },
        "id": "dbamRAEHTyZR",
        "outputId": "bdff624f-5e06-4f2e-a461-cf7e17cd7dd2"
      },
      "execution_count": 14,
      "outputs": [
        {
          "output_type": "stream",
          "name": "stdout",
          "text": [
            "6\n"
          ]
        }
      ]
    },
    {
      "cell_type": "code",
      "source": [
        "frutas2 = {}"
      ],
      "metadata": {
        "id": "h-ZW-UOJZwq0"
      },
      "execution_count": 4,
      "outputs": []
    },
    {
      "cell_type": "code",
      "source": [
        "a = input('Informe a fruta:')\n",
        "frutas2[a] = float(input('Informe o preço da fruta:'))"
      ],
      "metadata": {
        "colab": {
          "base_uri": "https://localhost:8080/"
        },
        "id": "b2CNGAyQailT",
        "outputId": "840bba01-f005-40c4-e619-c223d3e11423"
      },
      "execution_count": 7,
      "outputs": [
        {
          "name": "stdout",
          "output_type": "stream",
          "text": [
            "Informe a fruta:mamão\n",
            "Informe o preço da fruta:4\n"
          ]
        }
      ]
    },
    {
      "cell_type": "code",
      "source": [
        "menor = min(frutas2)\n",
        "frutas2.get(menor)"
      ],
      "metadata": {
        "colab": {
          "base_uri": "https://localhost:8080/"
        },
        "id": "HNViZsn19GZ5",
        "outputId": "2cfe05db-8600-474f-ae02-53601de2f811"
      },
      "execution_count": 23,
      "outputs": [
        {
          "output_type": "execute_result",
          "data": {
            "text/plain": [
              "2.0"
            ]
          },
          "metadata": {},
          "execution_count": 23
        }
      ]
    },
    {
      "cell_type": "code",
      "source": [
        "print(frutas2)"
      ],
      "metadata": {
        "colab": {
          "base_uri": "https://localhost:8080/"
        },
        "id": "wUOHcvEvas_3",
        "outputId": "153831e3-dfa8-460f-a5e5-e92f99eddac7"
      },
      "execution_count": 10,
      "outputs": [
        {
          "output_type": "stream",
          "name": "stdout",
          "text": [
            "{'banana': 2.0, 'morango': 5.5, 'mamão': 4.0}\n"
          ]
        }
      ]
    },
    {
      "cell_type": "markdown",
      "source": [
        "# ***Tentativa de criar uma lista de compras***"
      ],
      "metadata": {
        "id": "trzXKVWYxiTC"
      }
    },
    {
      "cell_type": "code",
      "source": [
        "frutas3 = {}\n",
        "carnes3 = {}"
      ],
      "metadata": {
        "id": "DQDvZHaDxDp0"
      },
      "execution_count": 28,
      "outputs": []
    },
    {
      "cell_type": "code",
      "source": [
        "user = input('Deseja inserir um produto na lista?\\n[S] - SIM\\n[N] - NÃO\\n').upper()\n",
        "while user != 'S' and user != 'N':\n",
        "  print('Valor errado, por favor informe S para sim ou N para não!')\n",
        "  user = input('Deseja inserir um produto na lista?\\n[S] - SIM\\n[N] - NÃO\\n').upper()\n",
        "if user == 'N':\n",
        "  print('Execução interrompida!')\n",
        "else:\n",
        "  tipo_prod = input('Qual tipo de produto você deseja inserir?\\n[F] - Frutas\\n[C] - Carnes\\n').upper()\n",
        "  produto = input('Qual produto você deseja cadastrar? ')\n",
        "  if tipo_prod == 'F':\n",
        "    frutas3[produto] = float(input(f'Informe o preço da(o) {produto}: '))\n",
        "  elif tipo_prod == 'C':\n",
        "    carnes3[produto] = float(input(f'Informe o preço da(o) {produto}: '))"
      ],
      "metadata": {
        "colab": {
          "base_uri": "https://localhost:8080/"
        },
        "id": "VTv9WwNzxMAr",
        "outputId": "3a263361-34fa-491d-9366-38cfbd812038"
      },
      "execution_count": 38,
      "outputs": [
        {
          "output_type": "stream",
          "name": "stdout",
          "text": [
            "Deseja inserir um produto na lista?\n",
            "[S] - SIM\n",
            "[N] - NÃO\n",
            "d\n",
            "Valor errado, por favor informe S para sim ou N para não!\n",
            "Deseja inserir um produto na lista?\n",
            "[S] - SIM\n",
            "[N] - NÃO\n",
            "f\n",
            "Valor errado, por favor informe S para sim ou N para não!\n",
            "Deseja inserir um produto na lista?\n",
            "[S] - SIM\n",
            "[N] - NÃO\n",
            "t\n",
            "Valor errado, por favor informe S para sim ou N para não!\n",
            "Deseja inserir um produto na lista?\n",
            "[S] - SIM\n",
            "[N] - NÃO\n",
            "s\n",
            "Qual tipo de produto você deseja inserir?\n",
            "[F] - Frutas\n",
            "[C] - Carnes\n",
            "f\n",
            "Qual produto você deseja cadastrar? banana\n",
            "Informe o preço da(o) banana: 2.30\n",
            "{'banana': 2.3}\n",
            "{}\n"
          ]
        }
      ]
    }
  ]
}