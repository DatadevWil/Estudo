{
  "nbformat": 4,
  "nbformat_minor": 0,
  "metadata": {
    "colab": {
      "name": "Estudos básicos em python.ipynb",
      "provenance": [],
      "collapsed_sections": [],
      "authorship_tag": "ABX9TyNY8wwS8JY1w8llxUvFAgvJ",
      "include_colab_link": true
    },
    "kernelspec": {
      "name": "python3",
      "display_name": "Python 3"
    },
    "language_info": {
      "name": "python"
    }
  },
  "cells": [
    {
      "cell_type": "markdown",
      "metadata": {
        "id": "view-in-github",
        "colab_type": "text"
      },
      "source": [
        "<a href=\"https://colab.research.google.com/github/DatadevWil/Estudo/blob/main/Estudos_b%C3%A1sicos_em_python.ipynb\" target=\"_parent\"><img src=\"https://colab.research.google.com/assets/colab-badge.svg\" alt=\"Open In Colab\"/></a>"
      ]
    },
    {
      "cell_type": "markdown",
      "source": [
        "# **Duas formas diferentes de encontrar o valor máximo informado por um usuário**"
      ],
      "metadata": {
        "id": "l4kbhSz-SGjL"
      }
    },
    {
      "cell_type": "code",
      "execution_count": null,
      "metadata": {
        "colab": {
          "base_uri": "https://localhost:8080/"
        },
        "id": "wLfaRtWwQKvP",
        "outputId": "d068b2ae-7b8b-455c-df3b-c0b766a1ffee"
      },
      "outputs": [
        {
          "name": "stdout",
          "output_type": "stream",
          "text": [
            "Informe um número:2\n",
            "Informe um número:2\n"
          ]
        }
      ],
      "source": [
        "num1=int(input('Informe um número:'))\n",
        "num2=int(input('Informe um número:'))"
      ]
    },
    {
      "cell_type": "code",
      "source": [
        "if num1>num2:\n",
        "  print(num1)\n",
        "elif num1 == num2:\n",
        "  print('Os dois números são iguais!')\n",
        "else:\n",
        "  print(num2)"
      ],
      "metadata": {
        "colab": {
          "base_uri": "https://localhost:8080/"
        },
        "id": "MMz8fUT4QuU0",
        "outputId": "1f5fb71c-c80e-4f17-c336-6b761fc54059"
      },
      "execution_count": null,
      "outputs": [
        {
          "output_type": "stream",
          "name": "stdout",
          "text": [
            "Os dois números são iguais!\n"
          ]
        }
      ]
    },
    {
      "cell_type": "code",
      "source": [
        "lista=[]"
      ],
      "metadata": {
        "id": "xGNtF7FGRQct"
      },
      "execution_count": null,
      "outputs": []
    },
    {
      "cell_type": "code",
      "source": [
        "qtd = int(input('Informe a quantidade de repetições:'))"
      ],
      "metadata": {
        "colab": {
          "base_uri": "https://localhost:8080/"
        },
        "id": "6OykmC2SRg0H",
        "outputId": "e4342088-97a9-4761-ea40-99127a24c817"
      },
      "execution_count": null,
      "outputs": [
        {
          "name": "stdout",
          "output_type": "stream",
          "text": [
            "Informe a quantidade de repetições:5\n"
          ]
        }
      ]
    },
    {
      "cell_type": "code",
      "source": [
        "for n in range(0,qtd):\n",
        "  lista.append(int(input('Informe um número:')))"
      ],
      "metadata": {
        "colab": {
          "base_uri": "https://localhost:8080/"
        },
        "id": "84jXE2XERZsb",
        "outputId": "04dd7b24-e912-4768-8cb0-ac313dcf69dd"
      },
      "execution_count": null,
      "outputs": [
        {
          "name": "stdout",
          "output_type": "stream",
          "text": [
            "Informe um número:2\n",
            "Informe um número:3\n",
            "Informe um número:4\n",
            "Informe um número:5\n",
            "Informe um número:8\n"
          ]
        }
      ]
    },
    {
      "cell_type": "code",
      "source": [
        "print(max(lista))"
      ],
      "metadata": {
        "colab": {
          "base_uri": "https://localhost:8080/"
        },
        "id": "SdZuXEifR3i8",
        "outputId": "e9e23f1c-a0f0-46ad-9071-74fdb759c3c7"
      },
      "execution_count": null,
      "outputs": [
        {
          "output_type": "stream",
          "name": "stdout",
          "text": [
            "8\n"
          ]
        }
      ]
    },
    {
      "cell_type": "markdown",
      "source": [
        "# **Identificando se o número informado pelo usuário é positivo ou negativo e identificando os valores positivos e negativos dentro de uma lista**"
      ],
      "metadata": {
        "id": "QVNf3rhWSiHD"
      }
    },
    {
      "cell_type": "code",
      "source": [
        "num3 = int(input('Informe um número:'))"
      ],
      "metadata": {
        "colab": {
          "base_uri": "https://localhost:8080/"
        },
        "id": "v-56etzPSe-F",
        "outputId": "db4e1d1f-7f3b-4215-dfaf-2e06e16e392a"
      },
      "execution_count": null,
      "outputs": [
        {
          "name": "stdout",
          "output_type": "stream",
          "text": [
            "Informe um número:0\n"
          ]
        }
      ]
    },
    {
      "cell_type": "code",
      "source": [
        "if num3 < 0:\n",
        "  print(f'O {num3} é negativo!')\n",
        "elif num3 == 0:\n",
        "  print('O número é igual a 0.')\n",
        "else:\n",
        "  print(f'O {num3} é positivo!')"
      ],
      "metadata": {
        "colab": {
          "base_uri": "https://localhost:8080/"
        },
        "id": "PHS5RjMUS0As",
        "outputId": "7facc8d4-73af-4c61-c837-d27205afddb6"
      },
      "execution_count": null,
      "outputs": [
        {
          "output_type": "stream",
          "name": "stdout",
          "text": [
            "O número é igual a 0.\n"
          ]
        }
      ]
    },
    {
      "cell_type": "code",
      "source": [
        "lista2=[2,-2,3,0,-2,2,-5,5]\n",
        "negativos=[]\n",
        "positivos=[]"
      ],
      "metadata": {
        "id": "r-mCC4LwTaxA"
      },
      "execution_count": null,
      "outputs": []
    },
    {
      "cell_type": "code",
      "source": [
        "for n in lista2:\n",
        "  if n < 0:\n",
        "    if n in negativos:\n",
        "      continue\n",
        "    else:\n",
        "      negativos.append(n)\n",
        "  elif n == 0:\n",
        "    continue\n",
        "  else:\n",
        "    if n in positivos:\n",
        "      continue\n",
        "    else:\n",
        "      positivos.append(n)\n",
        "\n",
        "print(negativos)\n",
        "print(positivos)"
      ],
      "metadata": {
        "colab": {
          "base_uri": "https://localhost:8080/"
        },
        "id": "4KKHCsvXTeuU",
        "outputId": "8f475bf8-6d66-497a-db8b-9a4d439b5259"
      },
      "execution_count": null,
      "outputs": [
        {
          "output_type": "stream",
          "name": "stdout",
          "text": [
            "[-2, -5]\n",
            "[2, 3, 5]\n"
          ]
        }
      ]
    },
    {
      "cell_type": "markdown",
      "source": [
        "# **Identificando se a letra informada pelo usuário é F, M ou outra e caso F imprindo FEMININO, caso M imprimindo MASCULINO**"
      ],
      "metadata": {
        "id": "yEa4xE1OVPmD"
      }
    },
    {
      "cell_type": "code",
      "source": [
        "letra = input('Informe o seu sexo:\\n[M] - Masculino\\n[F] - Feminino\\n').upper()\n",
        "while letra != 'M' and letra != 'F':\n",
        "  print('Você não informou um valor valido!')\n",
        "  letra = input('Informe o seu sexo:\\n[M] - Masculino\\n[F] - Feminino\\n').upper()"
      ],
      "metadata": {
        "colab": {
          "base_uri": "https://localhost:8080/"
        },
        "id": "EblDUA7qVMiG",
        "outputId": "c5bd99ac-a880-4da8-9882-11860154c29f"
      },
      "execution_count": 66,
      "outputs": [
        {
          "name": "stdout",
          "output_type": "stream",
          "text": [
            "Informe o seu sexo:\n",
            "[M] - Masculino\n",
            "[F] - Feminino\n",
            "mf\n",
            "Você não informou um valor valido!\n",
            "Informe o seu sexo:\n",
            "[M] - Masculino\n",
            "[F] - Feminino\n",
            "feminino\n",
            "Você não informou um valor valido!\n",
            "Informe o seu sexo:\n",
            "[M] - Masculino\n",
            "[F] - Feminino\n",
            "f\n"
          ]
        }
      ]
    },
    {
      "cell_type": "code",
      "source": [
        "if letra == 'M':\n",
        "  print('Seu sexo é Masculino.')\n",
        "elif letra != \"M\" and letra != \"F\":\n",
        "  print('Valor invalido!')\n",
        "else:\n",
        "  print('Seu sexo é Feminino.')"
      ],
      "metadata": {
        "colab": {
          "base_uri": "https://localhost:8080/"
        },
        "id": "badNhCR0YpUo",
        "outputId": "4af25a8a-1028-4ef6-f95e-796749d42ba6"
      },
      "execution_count": 64,
      "outputs": [
        {
          "output_type": "stream",
          "name": "stdout",
          "text": [
            "Seu sexo é Feminino.\n"
          ]
        }
      ]
    },
    {
      "cell_type": "markdown",
      "source": [
        "# **Avaliando se a letra é consoante ou vogal**"
      ],
      "metadata": {
        "id": "jPrIVIZUAbyE"
      }
    },
    {
      "cell_type": "code",
      "source": [
        "consoante = []\n",
        "vogal_user = []\n",
        "vogal = ('a','e','i','o','u')"
      ],
      "metadata": {
        "id": "mjUFaw1YAbBc"
      },
      "execution_count": 127,
      "outputs": []
    },
    {
      "cell_type": "code",
      "source": [
        "lista = []"
      ],
      "metadata": {
        "id": "ugMSwTMJAvti"
      },
      "execution_count": 116,
      "outputs": []
    },
    {
      "cell_type": "code",
      "source": [
        "qtd = int(input('Informe a quantidade de repetições:'))"
      ],
      "metadata": {
        "colab": {
          "base_uri": "https://localhost:8080/"
        },
        "id": "zTeSdwOuBDZq",
        "outputId": "347fc925-9f44-4142-b7a5-916c3ab20547"
      },
      "execution_count": 117,
      "outputs": [
        {
          "name": "stdout",
          "output_type": "stream",
          "text": [
            "Informe a quantidade de repetições:3\n"
          ]
        }
      ]
    },
    {
      "cell_type": "code",
      "source": [
        "for n in range(0,qtd):\n",
        "  letra = input('Informe uma letra:')\n",
        "  lista.append(letra)\n",
        "  if letra in vogal:\n",
        "    vogal_user.append(letra)\n",
        "  else:\n",
        "    consoante.append(letra)"
      ],
      "metadata": {
        "colab": {
          "base_uri": "https://localhost:8080/"
        },
        "id": "ezwsFl3xAyqK",
        "outputId": "c4fc3152-a1fc-4f89-96e1-dae4913aa3c9"
      },
      "execution_count": 118,
      "outputs": [
        {
          "name": "stdout",
          "output_type": "stream",
          "text": [
            "Informe uma letra:e\n",
            "Informe uma letra:f\n",
            "Informe uma letra:i\n"
          ]
        }
      ]
    },
    {
      "cell_type": "code",
      "source": [
        "print(lista)\n",
        "print(vogal_user)\n",
        "print(consoante)"
      ],
      "metadata": {
        "colab": {
          "base_uri": "https://localhost:8080/"
        },
        "id": "zDWGUOAQBanL",
        "outputId": "b65d4db0-f494-4cc6-d2a0-b69f7e3805e3"
      },
      "execution_count": 119,
      "outputs": [
        {
          "output_type": "stream",
          "name": "stdout",
          "text": [
            "['e', 'f', 'i']\n",
            "['e', 'i']\n",
            "['f']\n"
          ]
        }
      ]
    },
    {
      "cell_type": "code",
      "source": [
        "frase = input('Digite uma frase:')\n",
        "\n",
        "for n in frase:\n",
        "  if n == \" \":\n",
        "    continue\n",
        "  elif n in vogal:\n",
        "    if n in vogal_user:\n",
        "      continue\n",
        "    else:\n",
        "      vogal_user.append(n)\n",
        "  else:\n",
        "    if n in consoante:\n",
        "      continue\n",
        "    else:\n",
        "      consoante.append(n)\n",
        "\n",
        "print(vogal_user)\n",
        "print(consoante)\n"
      ],
      "metadata": {
        "colab": {
          "base_uri": "https://localhost:8080/"
        },
        "id": "GMZ6CpVgCLvL",
        "outputId": "f0bd5cd3-d373-4947-9e3b-0e93ba5ffece"
      },
      "execution_count": 128,
      "outputs": [
        {
          "output_type": "stream",
          "name": "stdout",
          "text": [
            "Digite uma frase:Meu nome e william\n",
            "['e', 'u', 'o', 'i', 'a']\n",
            "['M', 'n', 'm', 'w', 'l']\n"
          ]
        }
      ]
    }
  ]
}