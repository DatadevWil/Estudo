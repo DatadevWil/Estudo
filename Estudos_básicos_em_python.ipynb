{
  "nbformat": 4,
  "nbformat_minor": 0,
  "metadata": {
    "colab": {
      "name": "Estudos básicos em python.ipynb",
      "provenance": [],
      "collapsed_sections": [],
      "authorship_tag": "ABX9TyOUxEULxOMo9JJgS5aIBOgd",
      "include_colab_link": true
    },
    "kernelspec": {
      "name": "python3",
      "display_name": "Python 3"
    },
    "language_info": {
      "name": "python"
    }
  },
  "cells": [
    {
      "cell_type": "markdown",
      "metadata": {
        "id": "view-in-github",
        "colab_type": "text"
      },
      "source": [
        "<a href=\"https://colab.research.google.com/github/DatadevWil/Estudo/blob/main/Estudos_b%C3%A1sicos_em_python.ipynb\" target=\"_parent\"><img src=\"https://colab.research.google.com/assets/colab-badge.svg\" alt=\"Open In Colab\"/></a>"
      ]
    },
    {
      "cell_type": "markdown",
      "source": [
        "# **Duas formas diferentes de encontrar o valor máximo informado por um usuário**"
      ],
      "metadata": {
        "id": "l4kbhSz-SGjL"
      }
    },
    {
      "cell_type": "code",
      "execution_count": 6,
      "metadata": {
        "colab": {
          "base_uri": "https://localhost:8080/"
        },
        "id": "wLfaRtWwQKvP",
        "outputId": "d068b2ae-7b8b-455c-df3b-c0b766a1ffee"
      },
      "outputs": [
        {
          "name": "stdout",
          "output_type": "stream",
          "text": [
            "Informe um número:2\n",
            "Informe um número:2\n"
          ]
        }
      ],
      "source": [
        "num1=int(input('Informe um número:'))\n",
        "num2=int(input('Informe um número:'))"
      ]
    },
    {
      "cell_type": "code",
      "source": [
        "if num1>num2:\n",
        "  print(num1)\n",
        "elif num1 == num2:\n",
        "  print('Os dois números são iguais!')\n",
        "else:\n",
        "  print(num2)"
      ],
      "metadata": {
        "colab": {
          "base_uri": "https://localhost:8080/"
        },
        "id": "MMz8fUT4QuU0",
        "outputId": "1f5fb71c-c80e-4f17-c336-6b761fc54059"
      },
      "execution_count": 7,
      "outputs": [
        {
          "output_type": "stream",
          "name": "stdout",
          "text": [
            "Os dois números são iguais!\n"
          ]
        }
      ]
    },
    {
      "cell_type": "code",
      "source": [
        "lista=[]"
      ],
      "metadata": {
        "id": "xGNtF7FGRQct"
      },
      "execution_count": 10,
      "outputs": []
    },
    {
      "cell_type": "code",
      "source": [
        "qtd = int(input('Informe a quantidade de repetições:'))"
      ],
      "metadata": {
        "colab": {
          "base_uri": "https://localhost:8080/"
        },
        "id": "6OykmC2SRg0H",
        "outputId": "e4342088-97a9-4761-ea40-99127a24c817"
      },
      "execution_count": 11,
      "outputs": [
        {
          "name": "stdout",
          "output_type": "stream",
          "text": [
            "Informe a quantidade de repetições:5\n"
          ]
        }
      ]
    },
    {
      "cell_type": "code",
      "source": [
        "for n in range(0,qtd):\n",
        "  lista.append(int(input('Informe um número:')))"
      ],
      "metadata": {
        "colab": {
          "base_uri": "https://localhost:8080/"
        },
        "id": "84jXE2XERZsb",
        "outputId": "04dd7b24-e912-4768-8cb0-ac313dcf69dd"
      },
      "execution_count": 12,
      "outputs": [
        {
          "name": "stdout",
          "output_type": "stream",
          "text": [
            "Informe um número:2\n",
            "Informe um número:3\n",
            "Informe um número:4\n",
            "Informe um número:5\n",
            "Informe um número:8\n"
          ]
        }
      ]
    },
    {
      "cell_type": "code",
      "source": [
        "print(max(lista))"
      ],
      "metadata": {
        "colab": {
          "base_uri": "https://localhost:8080/"
        },
        "id": "SdZuXEifR3i8",
        "outputId": "e9e23f1c-a0f0-46ad-9071-74fdb759c3c7"
      },
      "execution_count": 15,
      "outputs": [
        {
          "output_type": "stream",
          "name": "stdout",
          "text": [
            "8\n"
          ]
        }
      ]
    },
    {
      "cell_type": "markdown",
      "source": [
        "# **Identificando se o número informado pelo usuário é positivo ou negativo e identificando os valores positivos e negativos dentro de uma lista**"
      ],
      "metadata": {
        "id": "QVNf3rhWSiHD"
      }
    },
    {
      "cell_type": "code",
      "source": [
        "num3 = int(input('Informe um número:'))"
      ],
      "metadata": {
        "colab": {
          "base_uri": "https://localhost:8080/"
        },
        "id": "v-56etzPSe-F",
        "outputId": "db4e1d1f-7f3b-4215-dfaf-2e06e16e392a"
      },
      "execution_count": 20,
      "outputs": [
        {
          "name": "stdout",
          "output_type": "stream",
          "text": [
            "Informe um número:0\n"
          ]
        }
      ]
    },
    {
      "cell_type": "code",
      "source": [
        "if num3 < 0:\n",
        "  print(f'O {num3} é negativo!')\n",
        "elif num3 == 0:\n",
        "  print('O número é igual a 0.')\n",
        "else:\n",
        "  print(f'O {num3} é positivo!')"
      ],
      "metadata": {
        "colab": {
          "base_uri": "https://localhost:8080/"
        },
        "id": "PHS5RjMUS0As",
        "outputId": "7facc8d4-73af-4c61-c837-d27205afddb6"
      },
      "execution_count": 21,
      "outputs": [
        {
          "output_type": "stream",
          "name": "stdout",
          "text": [
            "O número é igual a 0.\n"
          ]
        }
      ]
    },
    {
      "cell_type": "code",
      "source": [
        "lista2=[2,-2,3,0,-2,2,-5,5]\n",
        "negativos=[]\n",
        "positivos=[]"
      ],
      "metadata": {
        "id": "r-mCC4LwTaxA"
      },
      "execution_count": 36,
      "outputs": []
    },
    {
      "cell_type": "code",
      "source": [
        "for n in lista2:\n",
        "  if n < 0:\n",
        "    if n in negativos:\n",
        "      continue\n",
        "    else:\n",
        "      negativos.append(n)\n",
        "  elif n == 0:\n",
        "    continue\n",
        "  else:\n",
        "    if n in positivos:\n",
        "      continue\n",
        "    else:\n",
        "      positivos.append(n)\n",
        "\n",
        "print(negativos)\n",
        "print(positivos)"
      ],
      "metadata": {
        "colab": {
          "base_uri": "https://localhost:8080/"
        },
        "id": "4KKHCsvXTeuU",
        "outputId": "8f475bf8-6d66-497a-db8b-9a4d439b5259"
      },
      "execution_count": 37,
      "outputs": [
        {
          "output_type": "stream",
          "name": "stdout",
          "text": [
            "[-2, -5]\n",
            "[2, 3, 5]\n"
          ]
        }
      ]
    },
    {
      "cell_type": "markdown",
      "source": [
        "# **Identificando se a letra informada pelo usuário é F, M ou outra e caso F imprindo FEMININO, caso M imprimindo MASCULINO**"
      ],
      "metadata": {
        "id": "yEa4xE1OVPmD"
      }
    },
    {
      "cell_type": "code",
      "source": [
        "letra = input('Informe o seu sexo:').upper()"
      ],
      "metadata": {
        "colab": {
          "base_uri": "https://localhost:8080/"
        },
        "id": "EblDUA7qVMiG",
        "outputId": "1c1862ce-8c8a-407f-b7b0-10a389c8c243"
      },
      "execution_count": 44,
      "outputs": [
        {
          "name": "stdout",
          "output_type": "stream",
          "text": [
            "Informe o seu sexo:masculino\n"
          ]
        }
      ]
    },
    {
      "cell_type": "code",
      "source": [
        "if letra == 'M':\n",
        "  print('Seu sexo é Masculino.')\n",
        "elif letra != \"M\" and letra != \"F\":\n",
        "  print('Valor invalido!')\n",
        "else:\n",
        "  print('Seu sexo é Feminino.')"
      ],
      "metadata": {
        "colab": {
          "base_uri": "https://localhost:8080/"
        },
        "id": "badNhCR0YpUo",
        "outputId": "381a4fb4-0918-44ab-8692-62e554be97ba"
      },
      "execution_count": 45,
      "outputs": [
        {
          "output_type": "stream",
          "name": "stdout",
          "text": [
            "Valor invalido!\n"
          ]
        }
      ]
    }
  ]
}