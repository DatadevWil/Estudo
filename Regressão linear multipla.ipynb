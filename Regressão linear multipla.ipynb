{
  "nbformat": 4,
  "nbformat_minor": 0,
  "metadata": {
    "jupytext": {
      "cell_metadata_filter": "-all",
      "main_language": "python",
      "notebook_metadata_filter": "-all"
    },
    "kernelspec": {
      "display_name": "Python 3",
      "language": "python",
      "name": "python3"
    },
    "language_info": {
      "codemirror_mode": {
        "name": "ipython",
        "version": 3
      },
      "file_extension": ".py",
      "mimetype": "text/x-python",
      "name": "python",
      "nbconvert_exporter": "python",
      "pygments_lexer": "ipython3",
      "version": "3.7.6"
    },
    "colab": {
      "name": "2.regressao_multipla_.ipynb",
      "provenance": [],
      "include_colab_link": true
    }
  },
  "cells": [
    {
      "cell_type": "markdown",
      "metadata": {
        "id": "view-in-github",
        "colab_type": "text"
      },
      "source": [
        "<a href=\"https://colab.research.google.com/github/DatadevWil/Estudo/blob/main/Regress%C3%A3o%20linear%20multipla.ipynb\" target=\"_parent\"><img src=\"https://colab.research.google.com/assets/colab-badge.svg\" alt=\"Open In Colab\"/></a>"
      ]
    },
    {
      "cell_type": "code",
      "metadata": {
        "id": "Tccn5OTtCveR"
      },
      "source": [
        "# Importação das bibliotecas\n",
        "import pandas as pd\n",
        "import numpy as np\n",
        "import matplotlib.pyplot as plt\n",
        "from sklearn.linear_model import LinearRegression\n",
        "import statsmodels.formula.api as sm"
      ],
      "execution_count": null,
      "outputs": []
    },
    {
      "cell_type": "code",
      "metadata": {
        "id": "semG9XUeCveS"
      },
      "source": [
        "# Carregamento da base de dados e exclusão da primeiro coluna\n",
        "base = pd.read_csv('mt_cars.csv')\n",
        "base.shape"
      ],
      "execution_count": null,
      "outputs": []
    },
    {
      "cell_type": "code",
      "metadata": {
        "id": "ce_xIFjJCveT"
      },
      "source": [
        "#mpeg consumo, cyl clindros, disp cilindradas, hp\n",
        "base.head()"
      ],
      "execution_count": null,
      "outputs": []
    },
    {
      "cell_type": "code",
      "metadata": {
        "id": "gsNWElp4CveU"
      },
      "source": [
        "#exclui coluna\n",
        "base = base.drop(['Unnamed: 0'], axis = 1)"
      ],
      "execution_count": null,
      "outputs": []
    },
    {
      "cell_type": "code",
      "metadata": {
        "id": "Y-NquFQRCveV"
      },
      "source": [
        "# Criação de X e Y: variável independente e variável dependente\n",
        "# Cálculo da correlação entre X e Y\n",
        "X = base.iloc[:, 2].values #coluna disp\n",
        "y = base.iloc[:, 0].values #coluna mpg\n",
        "correlacao = np.corrcoef(X, y)\n",
        "correlacao"
      ],
      "execution_count": null,
      "outputs": []
    },
    {
      "cell_type": "code",
      "metadata": {
        "id": "NJ8iQMqrCveV"
      },
      "source": [
        "# Mudança do formato de X para o formato de matriz (necessário para versões mais recentes do sklearn)\n",
        "X = X.reshape(-1, 1)"
      ],
      "execution_count": null,
      "outputs": []
    },
    {
      "cell_type": "code",
      "metadata": {
        "id": "RFZe7SsXCveX"
      },
      "source": [
        "# Criação do modelo, treinamento, visualização dos coeficientes e do score do modelo\n",
        "modelo = LinearRegression()\n",
        "modelo.fit(X, y)"
      ],
      "execution_count": null,
      "outputs": []
    },
    {
      "cell_type": "code",
      "metadata": {
        "id": "VLq7jZm-CveY"
      },
      "source": [
        "#Interceptação\n",
        "modelo.intercept_"
      ],
      "execution_count": null,
      "outputs": []
    },
    {
      "cell_type": "code",
      "metadata": {
        "id": "-uP6JlQhCvea"
      },
      "source": [
        "#inclinação\n",
        "modelo.coef_"
      ],
      "execution_count": null,
      "outputs": []
    },
    {
      "cell_type": "code",
      "metadata": {
        "id": "4prlKP4RCvea"
      },
      "source": [
        "#score R^2\n",
        "modelo.score(X, y)"
      ],
      "execution_count": null,
      "outputs": []
    },
    {
      "cell_type": "code",
      "metadata": {
        "id": "FhMF9FmOCveb"
      },
      "source": [
        "# Geração das previsões\n",
        "previsoes = modelo.predict(X)\n",
        "previsoes"
      ],
      "execution_count": null,
      "outputs": []
    },
    {
      "cell_type": "code",
      "metadata": {
        "id": "YTz4RRMXCvec"
      },
      "source": [
        "# Criação do modelo, utilizando a biblioteca statsmodel \n",
        "#podemos ver r ajustadodo r2\n",
        "modelo_ajustado = sm.ols(formula = 'mpg ~ disp', data = base)\n",
        "modelo_treinado = modelo_ajustado.fit()\n",
        "modelo_treinado.summary()"
      ],
      "execution_count": null,
      "outputs": []
    },
    {
      "cell_type": "code",
      "metadata": {
        "id": "0wOSKB7ECvec"
      },
      "source": [
        "# Visualização dos resultados\n",
        "plt.scatter(X, y)\n",
        "plt.plot(X, previsoes, color = 'red')"
      ],
      "execution_count": null,
      "outputs": []
    },
    {
      "cell_type": "code",
      "metadata": {
        "id": "-nPGYeoQCved"
      },
      "source": [
        "# Previsão para somente um valor\n",
        "modelo.predict([[200]])"
      ],
      "execution_count": null,
      "outputs": []
    },
    {
      "cell_type": "code",
      "metadata": {
        "id": "4mJlaLW4Cved"
      },
      "source": [
        "# Criação de novas variáveis X1 e Y1 e novo modelo para comparação com o anterior\n",
        "# 3 variáveis dependentes para prever mpg: cyl\tdisp\thp\n",
        "X1 = base.iloc[:, 1:4].values\n",
        "X1"
      ],
      "execution_count": null,
      "outputs": []
    },
    {
      "cell_type": "code",
      "metadata": {
        "id": "ymu2BzkrCvee"
      },
      "source": [
        "y1 = base.iloc[:, 0].values\n",
        "modelo2 = LinearRegression()\n",
        "modelo2.fit(X1, y1)\n",
        "#R^2\n",
        "modelo2.score(X1, y1)"
      ],
      "execution_count": null,
      "outputs": []
    },
    {
      "cell_type": "code",
      "metadata": {
        "id": "BnGy8qD0Cvee"
      },
      "source": [
        "# Criação do modelo ajustado com mais atributos (regressão linear múltipla)\n",
        "#usando stats models\n",
        "modelo_ajustado2 = sm.ols(formula = 'mpg ~ cyl + disp + hp', data = base)\n",
        "modelo_treinado2 = modelo_ajustado2.fit()\n",
        "modelo_treinado2.summary()"
      ],
      "execution_count": null,
      "outputs": []
    },
    {
      "cell_type": "code",
      "metadata": {
        "lines_to_next_cell": 2,
        "id": "yILMikdJCvee"
      },
      "source": [
        "# Previsão de um novo registro\n",
        "novo = np.array([4, 200, 100])\n",
        "novo = novo.reshape(1, -1)\n",
        "modelo2.predict(novo)"
      ],
      "execution_count": null,
      "outputs": []
    },
    {
      "cell_type": "code",
      "metadata": {
        "id": "-ELsME4vCvef"
      },
      "source": [
        "modelo_treinado2.predict(novo)"
      ],
      "execution_count": null,
      "outputs": []
    },
    {
      "cell_type": "code",
      "metadata": {
        "id": "i4R_LPXVCvef"
      },
      "source": [
        ""
      ],
      "execution_count": null,
      "outputs": []
    }
  ]
}